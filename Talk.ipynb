{
 "cells": [
  {
   "cell_type": "markdown",
   "metadata": {
    "slideshow": {
     "slide_type": "slide"
    }
   },
   "source": [
    "# Introducción a la Mecánica Orbital con Python y poliastro\n",
    "\n",
    "![Orbits](img/background.jpg)\n",
    "\n",
    "### Juan Luis Cano, 2018-10-18 @ #SpaceApps Challenge"
   ]
  },
  {
   "cell_type": "markdown",
   "metadata": {
    "slideshow": {
     "slide_type": "slide"
    }
   },
   "source": [
    "# Índice\n",
    "\n",
    "## Introducción\n",
    "\n",
    "## I. Teoría\n",
    "\n",
    "1. ¿Por qué caen los objetos?\n",
    "2. La Tierra y el Sistema Solar\n",
    "3. ¿Qué es una órbita?\n",
    "4. Asteroides y cometas\n",
    "5. Satélites artificiales\n",
    "6. Bibliografía\n",
    "\n",
    "## II. Práctica\n",
    "\n",
    "## III. Conclusiones y preguntas"
   ]
  },
  {
   "cell_type": "markdown",
   "metadata": {
    "slideshow": {
     "slide_type": "slide"
    }
   },
   "source": [
    "# Introducción\n",
    "\n",
    "* **Ingeniero ~~Aeroespacial~~ Aeronáutico** apasionado por la Astrodinámica, los satélites y el espacio 🛰\n",
    "* Presidente de la asociación sin ánimo de lucro **Python España** y co-organizador de **PyCon España** 🐍\n",
    "  - Próxima edición en Alicante, próximamente en https://2019.es.pycon.org/\n",
    "* **Ingeniero de software** en **Satellogic** 🌍\n",
    "* Defensor del software libre y entusiasta de Python para aplicaciones científicas 🕮\n",
    "* Hard Rock lover 🎸\n",
    "\n",
    "¡Sígueme! https://github.com/Juanlu001/\n",
    "\n",
    "![Juanlu](img/juanlu_esa.jpg)"
   ]
  },
  {
   "cell_type": "markdown",
   "metadata": {
    "slideshow": {
     "slide_type": "slide"
    }
   },
   "source": [
    "# I. Teoría\n",
    "\n",
    "## 1. ¿Por qué caen los objetos?\n",
    "\n",
    "![La manzana de Newton](img/apple-falling.jpg)"
   ]
  },
  {
   "cell_type": "markdown",
   "metadata": {
    "slideshow": {
     "slide_type": "subslide"
    }
   },
   "source": [
    "### Ley de gravitación universal\n",
    "\n",
    "* Por el hecho de tener **masa**, los objetos atraen a otros\n",
    "* La fuerza ejercida entre dos cuerpos es igual al producto de sus masas e inversamente proporcional al cuadrado de la distancia que los separa:\n",
    "\n",
    "![Ley de Gravitación Universal](img/gravitation.png)"
   ]
  },
  {
   "cell_type": "markdown",
   "metadata": {
    "slideshow": {
     "slide_type": "subslide"
    }
   },
   "source": [
    "### Segunda ley de Newton o ley fundamental de la dinámica\n",
    "\n",
    "* Cuando sobre un objeto actúa una **fuerza**, este sufre una **aceleración**\n",
    "* La **aceleración** es proporcional a la **fuerza** y a la **masa** del objeto e irá _en la misma dirección_:\n",
    "\n",
    "$$ \\vec{F} = m \\vec{a} $$"
   ]
  },
  {
   "cell_type": "markdown",
   "metadata": {
    "slideshow": {
     "slide_type": "fragment"
    }
   },
   "source": [
    "Entonces... ¿cómo se acelera un objeto sometido a la fuera de la gravedad que ejerce otro?\n",
    "\n",
    "$$\n",
    "\\vec{a} = \\vec{F} \\frac{1}{m} = G \\frac{m M}{r^2} \\frac{1}{m} \\vec{u} = \\frac{G M}{r^2} \\vec{u} = \\frac{\\mu}{r^2} \\vec{u}\n",
    "$$\n",
    "\n",
    "¡Sí! La aceleración de un objeto bajo la gravedad de otro _no depende de la masa del objeto_, solo de la del atractor."
   ]
  },
  {
   "cell_type": "markdown",
   "metadata": {
    "slideshow": {
     "slide_type": "subslide"
    }
   },
   "source": [
    "### ¿Orbitar o caer?\n",
    "\n",
    "* Imaginemos este experimento: lanzamos una bala de cañón cada vez más fuerte\n",
    "* Al principio caerá al pie de la montaña, y cada vez más lejos...\n",
    "* ...hasta que el suelo se empiece a hundir bajo la trayectoria...\n",
    "* ...¡y al final nunca lo toque!\n",
    "* **Estar en órbita es estar cayendo permanentemente**\n",
    "\n",
    "![El cañón de Newton](img/newtons-cannonball.jpg)"
   ]
  },
  {
   "cell_type": "markdown",
   "metadata": {
    "slideshow": {
     "slide_type": "subslide"
    }
   },
   "source": [
    "## 2. La Tierra y el Sistema Solar\n",
    "\n",
    "![Sistema Solar](img/ss.jpg)"
   ]
  },
  {
   "cell_type": "markdown",
   "metadata": {
    "slideshow": {
     "slide_type": "subslide"
    }
   },
   "source": [
    "## 3. ¿Qué es una órbita?\n",
    "\n",
    "* Una órbita es una trayectoria alrededor de un cuerpo celeste, incluyendo la Tierra\n",
    "* Usando un modelo simplificado, solo pueden ser elipses (caso especial: círculos) o hipérbolas (caso especial: parábolas)\n",
    "* Se describen usando **parámetros geométricos** y, en ocasiones, cinemáticos\n",
    "* El plano de la órbita se corta con un plano de referencia formando la **línea de nodos**\n",
    "\n",
    "![Parámetros orbitales](img/orbit-parameters.png)"
   ]
  },
  {
   "cell_type": "markdown",
   "metadata": {
    "slideshow": {
     "slide_type": "subslide"
    }
   },
   "source": [
    "### Elementos keplerianos\n",
    "\n",
    "Forma de la órbita:\n",
    "\n",
    "* $a$ **Semieje mayor**: para elipses, mitad de la distancia del un extremo a otro\n",
    "* $e$ **Excentricidad**: medida de achatamiento (0 para círculos, menor que 1 para elipses, mayor que 1 para hipérbolas)\n",
    "\n",
    "Posición del plano de la órbita:\n",
    "\n",
    "* $i$ **Inclinación**: con respecto al plano de referencia\n",
    "* $\\Omega$ **Ascensión recta del nodo ascendente**: ángulo (ascensión recta) entre la dirección de referencia y el punto (nodo) en el que el satélite cruza el plano \"subiendo\" (ascendente)\n",
    "* $\\omega$ **Argumento del pericentro**: ángulo (argumento) entre la línea de nodos y el punto más cercano al atractor (pericentro)\n",
    "\n",
    "Posición del objeto dentro de la órbita:\n",
    "\n",
    "* $\\nu$ **Anomalía verdadera**: ángulo (anomalía) entre el pericentro y la posición actual"
   ]
  },
  {
   "cell_type": "markdown",
   "metadata": {
    "slideshow": {
     "slide_type": "subslide"
    }
   },
   "source": [
    "![Órbitas elípticas](img/orbits.png)"
   ]
  },
  {
   "cell_type": "markdown",
   "metadata": {
    "slideshow": {
     "slide_type": "subslide"
    }
   },
   "source": [
    "### Órbitas reales\n",
    "\n",
    "* Las órbitas **reales** se desvían respecto al modelo simplificado debido a **perturbaciones**\n",
    "* Entre ellas: resto de cuerpos del Sistema Solar, no uniformidad del atractor, presión de radiación, atmósfera (cuando la hay)...\n",
    "* Es **muy costoso** tener todos estos factores en cuenta y hacer una predicción precisa y exacta\n",
    "* Se toman medidas **redundantes** (ópticas, láser, GPS) y se refinan continuamente\n",
    "* Predicciones de la NASA: https://ssd.jpl.nasa.gov/horizons.cgi"
   ]
  },
  {
   "cell_type": "markdown",
   "metadata": {
    "slideshow": {
     "slide_type": "slide"
    }
   },
   "source": [
    "## 4. Asteroides y cometas\n",
    "\n",
    "* Nos centraremos en los **cuerpos cercanos a la Tierra**, comúnmente conocidos como NEOs (de _Near Earth Objects_)\n",
    "* Son cometas y asteroides a los que las fuerzas gravitatorias del Sistema Solar han atraído a las cercanías de la Tierra\n",
    "* ¡Se conocen más 16000!\n",
    "* Fuentes de datos:\n",
    "  - JPL Small-Body Database Browser https://ssd.jpl.nasa.gov/sbdb.cgi\n",
    "  - HORIZONS https://ssd.jpl.nasa.gov/horizons.cgi\n",
    "  - Minor Planet Center https://www.minorplanetcenter.net/data\n",
    "  - NEODyS http://newton.dm.unipi.it/neodys/"
   ]
  },
  {
   "cell_type": "markdown",
   "metadata": {
    "slideshow": {
     "slide_type": "slide"
    }
   },
   "source": [
    "![Tipos de NEOs](img/neo_orbit_types.jpg)"
   ]
  },
  {
   "cell_type": "markdown",
   "metadata": {
    "slideshow": {
     "slide_type": "slide"
    }
   },
   "source": [
    "![Impactos sobre la Tierra](img/bolide_events.jpg)"
   ]
  },
  {
   "cell_type": "markdown",
   "metadata": {
    "slideshow": {
     "slide_type": "slide"
    }
   },
   "source": [
    "## 5. Satélites artificiales\n",
    "\n",
    "* Actualmente **~2200** satélites en órbita ([fuente](https://www.wolframalpha.com/input/?i=current+number+of+satellites+in+orbit))\n",
    "* Diversos tipos: observación de la Tierra, científicos, comunicaciones, militares...\n",
    "\n",
    "![Satélites](img/satellites.jpg)"
   ]
  },
  {
   "cell_type": "markdown",
   "metadata": {
    "slideshow": {
     "slide_type": "slide"
    }
   },
   "source": [
    "## 8. Bibliografía\n",
    "\n",
    "* Muy recomendable: \"Orbital Mechanics for Engineering Students\", de Curtis\n",
    "* Curso online del MIT por Richard Battin https://ocw.mit.edu/courses/aeronautics-and-astronautics/16-346-astrodynamics-fall-2008/\n",
    "* O mejor que un libro... ¡un videojuego! Kerbal Space Program https://www.kerbalspaceprogram.com/"
   ]
  },
  {
   "cell_type": "markdown",
   "metadata": {
    "slideshow": {
     "slide_type": "slide"
    }
   },
   "source": [
    "# II. Práctica\n",
    "\n",
    "Cómo ejecutar estas diapositivas de manera sencilla:\n",
    "\n",
    "* En un servidor Jupyter temporal en la nube usando [binder](https://beta.mybinder.org/): [![Binder](http://mybinder.org/badge.svg)](http://mybinder.org/v2/gh/Juanlu001/intro-mecanica-orbital-python/master?filepath=Talk.ipynb)\n",
    "* En [Google Colab](http://colab.research.google.com) (necesitarás cuenta en Google): [![Colab](https://colab.research.google.com/assets/colab-badge.svg)](https://colab.research.google.com/github/Juanlu001/intro-mecanica-orbital-python/blob/master/Talk.ipynb) \n",
    "* [Descargándolas](https://github.com/Juanlu001/intro-mecanica-orbital-python/archive/master.zip) en tu propio portátil (necesitarás Python, si estás en Windows mejor con Anaconda) "
   ]
  },
  {
   "cell_type": "markdown",
   "metadata": {
    "slideshow": {
     "slide_type": "subslide"
    }
   },
   "source": [
    "## poliastro\n",
    "\n",
    "<img src=\"img/poliastro.svg\" alt=\"poliastro\" width=\"500\" style=\"float:right\"></img>\n",
    "\n",
    "> poliastro is a collection of Python functions useful in Astrodynamics and Orbital Mechanics, focusing on interplanetary applications. \n",
    "\n",
    "* **Python puro**, acelerado con **numba**\n",
    "* **MIT license** (permisiva)\n",
    "* Unidades físicas, escalas de tiempo astronómicas, efemérides planetarias y sistemas de referencia gracias a Astropy\n",
    "* Problema de los dos cuerpos: conversión entre elementos orbitales y cartesianos, propagación analítica y numérica, perturbaciones naturales, leyes de guiado de bajo empuje\n",
    "* Problema de los tres cuerpos: flybys, esfera de influencia, puntos de Lagrange\n",
    "* Documentación 🚀 https://docs.poliastro.space/\n",
    "* Última versión liberada hace unas semanas https://docs.poliastro.space/en/v0.11.0/changelog.html#poliastro-0-11-0-2018-09-21\n",
    "\n",
    "<div style=\"clear:both\"></div>\n",
    "\n",
    "Para instalar:\n",
    "\n",
    "```\n",
    "pip install poliastro\n",
    "``` "
   ]
  },
  {
   "cell_type": "markdown",
   "metadata": {
    "slideshow": {
     "slide_type": "subslide"
    }
   },
   "source": [
    "### Definiendo la órbita: objetos `Orbit` "
   ]
  },
  {
   "cell_type": "code",
   "execution_count": null,
   "metadata": {},
   "outputs": [],
   "source": []
  },
  {
   "cell_type": "markdown",
   "metadata": {
    "slideshow": {
     "slide_type": "subslide"
    }
   },
   "source": [
    "### Avanzando en el tiempo: propagación"
   ]
  },
  {
   "cell_type": "code",
   "execution_count": null,
   "metadata": {},
   "outputs": [],
   "source": []
  },
  {
   "cell_type": "markdown",
   "metadata": {
    "slideshow": {
     "slide_type": "subslide"
    }
   },
   "source": [
    "### Estudiando órbitas no keplerianas: perturbaciones "
   ]
  },
  {
   "cell_type": "code",
   "execution_count": null,
   "metadata": {},
   "outputs": [],
   "source": []
  },
  {
   "cell_type": "markdown",
   "metadata": {
    "slideshow": {
     "slide_type": "subslide"
    }
   },
   "source": [
    "### Aplicando empuje "
   ]
  },
  {
   "cell_type": "code",
   "execution_count": null,
   "metadata": {},
   "outputs": [],
   "source": []
  },
  {
   "cell_type": "markdown",
   "metadata": {
    "slideshow": {
     "slide_type": "subslide"
    }
   },
   "source": [
    "### Cambiando la órbita: objetos `Maneuver`"
   ]
  },
  {
   "cell_type": "code",
   "execution_count": null,
   "metadata": {},
   "outputs": [],
   "source": []
  },
  {
   "cell_type": "markdown",
   "metadata": {
    "slideshow": {
     "slide_type": "subslide"
    }
   },
   "source": [
    "### Viajando a través del espacio: el problema de Lambert"
   ]
  },
  {
   "cell_type": "code",
   "execution_count": null,
   "metadata": {},
   "outputs": [],
   "source": []
  },
  {
   "cell_type": "markdown",
   "metadata": {
    "slideshow": {
     "slide_type": "slide"
    }
   },
   "source": [
    "# III. Conclusiones y preguntas"
   ]
  },
  {
   "cell_type": "markdown",
   "metadata": {
    "slideshow": {
     "slide_type": "slide"
    }
   },
   "source": [
    "# ¡Muchas gracias!"
   ]
  }
 ],
 "metadata": {
  "celltoolbar": "Slideshow",
  "kernelspec": {
   "display_name": "Python 3",
   "language": "python",
   "name": "python3"
  },
  "language_info": {
   "codemirror_mode": {
    "name": "ipython",
    "version": 3
   },
   "file_extension": ".py",
   "mimetype": "text/x-python",
   "name": "python",
   "nbconvert_exporter": "python",
   "pygments_lexer": "ipython3",
   "version": "3.6.6"
  }
 },
 "nbformat": 4,
 "nbformat_minor": 2
}
