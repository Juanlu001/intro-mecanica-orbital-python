{
 "cells": [
  {
   "cell_type": "markdown",
   "metadata": {
    "slideshow": {
     "slide_type": "slide"
    }
   },
   "source": [
    "# Introducción a la Mecánica Orbital con Python y poliastro\n",
    "\n",
    "![Orbits](img/background.jpg)\n",
    "\n",
    "### Juan Luis Cano, 2018-10-18 @ #SpaceApps Challenge"
   ]
  },
  {
   "cell_type": "markdown",
   "metadata": {
    "slideshow": {
     "slide_type": "slide"
    }
   },
   "source": [
    "# Índice\n",
    "\n",
    "## Introducción\n",
    "\n",
    "## I. Teoría\n",
    "\n",
    "1. ¿Por qué caen los objetos?\n",
    "2. La Tierra y el Sistema Solar\n",
    "3. ¿Qué es una órbita?\n",
    "4. Asteroides y cometas\n",
    "5. Satélites artificiales\n",
    "6. Unidades y escalas temporales\n",
    "7. Sistemas de referencia\n",
    "8. Fuentes de datos\n",
    "9. Bibliografía\n",
    "\n",
    "## II. Práctica\n",
    "\n",
    "## III. Conclusiones y preguntas"
   ]
  },
  {
   "cell_type": "markdown",
   "metadata": {
    "slideshow": {
     "slide_type": "slide"
    }
   },
   "source": [
    "# Introducción\n",
    "\n",
    "* **Ingeniero ~~Aeroespacial~~ Aeronáutico** apasionado por la Astrodinámica, los satélites y el espacio 🛰\n",
    "* Presidente de la asociación sin ánimo de lucro **Python España** y co-organizador de **PyCon España** 🐍\n",
    "  - Próxima edición en Alicante, próximamente en https://2019.es.pycon.org/\n",
    "* **Ingeniero de software** en **Satellogic** 🌍\n",
    "* Defensor del software libre y entusiasta de Python para aplicaciones científicas 🕮\n",
    "* Hard Rock lover 🎸\n",
    "\n",
    "¡Sígueme! https://github.com/Juanlu001/\n",
    "\n",
    "![Juanlu](img/juanlu_esa.jpg)"
   ]
  },
  {
   "cell_type": "markdown",
   "metadata": {
    "slideshow": {
     "slide_type": "slide"
    }
   },
   "source": [
    "# I. Teoría\n",
    "\n",
    "## 1. ¿Por qué caen los objetos?\n",
    "\n",
    "![La manzana de Newton](img/apple-falling.jpg)"
   ]
  },
  {
   "cell_type": "markdown",
   "metadata": {
    "slideshow": {
     "slide_type": "subslide"
    }
   },
   "source": [
    "### Ley de gravitación universal\n",
    "\n",
    "* Por el hecho de tener **masa**, los objetos atraen a otros\n",
    "* La fuerza ejercida entre dos cuerpos es igual al producto de sus masas e inversamente proporcional al cuadrado de la distancia que los separa:\n",
    "\n",
    "![Ley de Gravitación Universal](img/gravitation.png)"
   ]
  },
  {
   "cell_type": "markdown",
   "metadata": {
    "slideshow": {
     "slide_type": "subslide"
    }
   },
   "source": [
    "### Segunda ley de Newton o ley fundamental de la dinámica\n",
    "\n",
    "* Cuando sobre un objeto actúa una **fuerza**, este sufre una **aceleración**\n",
    "* La **aceleración** es proporcional a la **fuerza** y a la **masa** del objeto e irá _en la misma dirección_:\n",
    "\n",
    "$$ \\vec{F} = m \\vec{a} $$"
   ]
  },
  {
   "cell_type": "markdown",
   "metadata": {
    "slideshow": {
     "slide_type": "fragment"
    }
   },
   "source": [
    "Entonces... ¿cómo se acelera un objeto sometido a la fuera de la gravedad que ejerce otro?\n",
    "\n",
    "$$\n",
    "\\vec{a} = \\vec{F} \\frac{1}{m} = G \\frac{m M}{r^2} \\frac{1}{m} \\vec{u} = \\frac{G M}{r^2} \\vec{u} = \\frac{\\mu}{r^2} \\vec{u}\n",
    "$$\n",
    "\n",
    "¡Sí! La aceleración de un objeto bajo la gravedad de otro _no depende de la masa del objeto_, solo de la del atractor."
   ]
  },
  {
   "cell_type": "markdown",
   "metadata": {
    "slideshow": {
     "slide_type": "subslide"
    }
   },
   "source": [
    "## 2. La Tierra y el Sistema Solar"
   ]
  },
  {
   "cell_type": "markdown",
   "metadata": {
    "slideshow": {
     "slide_type": "subslide"
    }
   },
   "source": []
  },
  {
   "cell_type": "markdown",
   "metadata": {
    "slideshow": {
     "slide_type": "subslide"
    }
   },
   "source": [
    "## 3. ¿Qué es una órbita?"
   ]
  },
  {
   "cell_type": "markdown",
   "metadata": {
    "slideshow": {
     "slide_type": "subslide"
    }
   },
   "source": []
  },
  {
   "cell_type": "markdown",
   "metadata": {
    "slideshow": {
     "slide_type": "subslide"
    }
   },
   "source": []
  },
  {
   "cell_type": "markdown",
   "metadata": {
    "slideshow": {
     "slide_type": "subslide"
    }
   },
   "source": []
  },
  {
   "cell_type": "markdown",
   "metadata": {
    "slideshow": {
     "slide_type": "slide"
    }
   },
   "source": [
    "## 4. Asteroides y cometas\n",
    "\n",
    "* Nos centraremos en los **cuerpos cercanos a la Tierra**, comúnmente conocidos como NEOs (de _Near Earth Objects_)\n",
    "* Son cometas y asteroides a los que las fuerzas gravitatorias del Sistema Solar han atraído a las cercanías de la Tierra\n",
    "* ¡Se conocen más 16000!\n",
    "* Fuentes de datos:\n",
    "  - JPL Small-Body Database Browser https://ssd.jpl.nasa.gov/sbdb.cgi\n",
    "  - HORIZONS https://ssd.jpl.nasa.gov/horizons.cgi\n",
    "  - Minor Planet Center https://www.minorplanetcenter.net/data\n",
    "  - NEODyS http://newton.dm.unipi.it/neodys/"
   ]
  },
  {
   "cell_type": "markdown",
   "metadata": {
    "slideshow": {
     "slide_type": "slide"
    }
   },
   "source": [
    "![Tipos de NEOs](img/neo_orbit_types.jpg)"
   ]
  },
  {
   "cell_type": "markdown",
   "metadata": {
    "slideshow": {
     "slide_type": "slide"
    }
   },
   "source": [
    "![Impactos sobre la Tierra](img/bolide_events.jpg)"
   ]
  },
  {
   "cell_type": "markdown",
   "metadata": {
    "slideshow": {
     "slide_type": "slide"
    }
   },
   "source": [
    "## 5. Satélites artificiales"
   ]
  },
  {
   "cell_type": "markdown",
   "metadata": {
    "slideshow": {
     "slide_type": "slide"
    }
   },
   "source": [
    "## 6. Unidades y escalas temporales"
   ]
  },
  {
   "cell_type": "markdown",
   "metadata": {
    "slideshow": {
     "slide_type": "slide"
    }
   },
   "source": [
    "## 7. Sistemas de referencia"
   ]
  },
  {
   "cell_type": "markdown",
   "metadata": {
    "slideshow": {
     "slide_type": "slide"
    }
   },
   "source": [
    "## 8. Bibliografía"
   ]
  },
  {
   "cell_type": "markdown",
   "metadata": {
    "slideshow": {
     "slide_type": "slide"
    }
   },
   "source": [
    "# II. Práctica\n",
    "\n",
    "Cómo ejecutar estas diapositivas de manera sencilla:\n",
    "\n",
    "* En un servidor Jupyter temporal en la nube usando [binder](https://beta.mybinder.org/): [![Binder](http://mybinder.org/badge.svg)](http://mybinder.org/v2/gh/Juanlu001/intro-mecanica-orbital-python/master?filepath=Talk.ipynb)\n",
    "* En [Google Colab](http://colab.research.google.com) (necesitarás cuenta en Google): [![Colab](https://colab.research.google.com/assets/colab-badge.svg)](https://colab.research.google.com/github/Juanlu001/intro-mecanica-orbital-python/blob/master/Talk.ipynb) \n",
    "* [Descargándolas](https://github.com/Juanlu001/intro-mecanica-orbital-python/archive/master.zip) en tu propio portátil (necesitarás Python, si estás en Windows mejor con Anaconda) "
   ]
  },
  {
   "cell_type": "markdown",
   "metadata": {
    "slideshow": {
     "slide_type": "subslide"
    }
   },
   "source": [
    "## poliastro\n",
    "\n",
    "<img src=\"img/poliastro.svg\" alt=\"poliastro\" width=\"500\" style=\"float:right\"></img>\n",
    "\n",
    "> poliastro is a collection of Python functions useful in Astrodynamics and Orbital Mechanics, focusing on interplanetary applications. \n",
    "\n",
    "* **Python puro**, acelerado con **numba**\n",
    "* **MIT license** (permisiva)\n",
    "* Unidades físicas, escalas de tiempo astronómicas, efemérides planetarias y sistemas de referencia gracias a Astropy\n",
    "* Problema de los dos cuerpos: conversión entre elementos orbitales y cartesianos, propagación analítica y numérica, perturbaciones naturales, leyes de guiado de bajo empuje\n",
    "* Problema de los tres cuerpos: flybys, esfera de influencia, puntos de Lagrange\n",
    "* Documentación 🚀 http://docs.poliastro.space/\n",
    "* Última versión liberada hace unas semanas http://docs.poliastro.space/en/v0.11.0/changelog.html#poliastro-0-11-0-2018-09-21\n",
    "\n",
    "<div style=\"clear:both\"></div>\n",
    "\n",
    "Para instalar:\n",
    "\n",
    "```\n",
    "pip install poliastro\n",
    "``` "
   ]
  },
  {
   "cell_type": "markdown",
   "metadata": {
    "slideshow": {
     "slide_type": "subslide"
    }
   },
   "source": []
  },
  {
   "cell_type": "markdown",
   "metadata": {
    "slideshow": {
     "slide_type": "subslide"
    }
   },
   "source": []
  },
  {
   "cell_type": "markdown",
   "metadata": {
    "slideshow": {
     "slide_type": "subslide"
    }
   },
   "source": []
  },
  {
   "cell_type": "markdown",
   "metadata": {
    "slideshow": {
     "slide_type": "subslide"
    }
   },
   "source": []
  },
  {
   "cell_type": "markdown",
   "metadata": {
    "slideshow": {
     "slide_type": "slide"
    }
   },
   "source": [
    "# III. Conclusiones y preguntas"
   ]
  },
  {
   "cell_type": "markdown",
   "metadata": {
    "slideshow": {
     "slide_type": "slide"
    }
   },
   "source": [
    "# ¡Muchas gracias!"
   ]
  }
 ],
 "metadata": {
  "celltoolbar": "Slideshow",
  "kernelspec": {
   "display_name": "Python 3",
   "language": "python",
   "name": "python3"
  },
  "language_info": {
   "codemirror_mode": {
    "name": "ipython",
    "version": 3
   },
   "file_extension": ".py",
   "mimetype": "text/x-python",
   "name": "python",
   "nbconvert_exporter": "python",
   "pygments_lexer": "ipython3",
   "version": "3.6.6"
  }
 },
 "nbformat": 4,
 "nbformat_minor": 2
}
